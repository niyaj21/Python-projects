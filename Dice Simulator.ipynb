{
 "cells": [
  {
   "cell_type": "markdown",
   "id": "b6000c9b",
   "metadata": {},
   "source": [
    "# Dice Simulator "
   ]
  },
  {
   "cell_type": "code",
   "execution_count": 35,
   "id": "9de600dd",
   "metadata": {},
   "outputs": [],
   "source": [
    "import random #import libraries\n"
   ]
  },
  {
   "cell_type": "code",
   "execution_count": null,
   "id": "307546ac",
   "metadata": {},
   "outputs": [
    {
     "name": "stdout",
     "output_type": "stream",
     "text": [
      "[.......]\n",
      "[       ]\n",
      "[   0   ]\n",
      "[       ]\n",
      "[.......]\n",
      "y or ny\n",
      "[.......]\n",
      "[      0]\n",
      "[       ]\n",
      "[0      ]\n",
      "[.......]\n",
      "y or ny\n",
      "[.......]\n",
      "[0     0]\n",
      "[0     0]\n",
      "[0     0]\n",
      "[.......]\n",
      "y or ny\n",
      "[.......]\n",
      "[       ]\n",
      "[   0   ]\n",
      "[       ]\n",
      "[.......]\n",
      "y or ny\n",
      "[.......]\n",
      "[0     0]\n",
      "[       ]\n",
      "[0     0]\n",
      "[.......]\n",
      "y or ny\n",
      "[.......]\n",
      "[0     0]\n",
      "[   0   ]\n",
      "[0     0]\n",
      "[.......]\n",
      "y or ny\n",
      "[.......]\n",
      "[0     0]\n",
      "[0     0]\n",
      "[0     0]\n",
      "[.......]\n",
      "y or ny\n",
      "[.......]\n",
      "[0      ]\n",
      "[   0   ]\n",
      "[      0]\n",
      "[.......]\n",
      "y or ny\n",
      "[.......]\n",
      "[0     0]\n",
      "[       ]\n",
      "[0     0]\n",
      "[.......]\n"
     ]
    }
   ],
   "source": [
    "z='y'\n",
    "while z=='y':\n",
    "    x=random.randint(1,6)\n",
    "    if x==1:#(printing pattern for dice face 1)\n",
    "        print( \"[.......]\")\n",
    "        print( \"[       ]\")      \n",
    "        print( \"[   0   ]\")\n",
    "        print( \"[       ]\")\n",
    "        print( \"[.......]\")\n",
    "    elif x==2:#(printing pattern for dice face 2)\n",
    "        print( \"[.......]\")\n",
    "        print( \"[      0]\")      \n",
    "        print( \"[       ]\")\n",
    "        print( \"[0      ]\")\n",
    "        print( \"[.......]\")            \n",
    "    elif x==3:#(printing pattern for dice face 3)\n",
    "        print( \"[.......]\")\n",
    "        print( \"[0      ]\")      \n",
    "        print( \"[   0   ]\")\n",
    "        print( \"[      0]\")\n",
    "        print( \"[.......]\")\n",
    "    elif x==4:#(printing pattern for dice face 4)\n",
    "\n",
    "        print( \"[.......]\")\n",
    "        print( \"[0     0]\")      \n",
    "        print( \"[       ]\")\n",
    "        print( \"[0     0]\")\n",
    "        print( \"[.......]\")\n",
    "\n",
    "    elif x==5:#(printing pattern for dice face 5)\n",
    "\n",
    "        print( \"[.......]\")\n",
    "        print( \"[0     0]\")      \n",
    "        print( \"[   0   ]\")\n",
    "        print( \"[0     0]\")\n",
    "        print( \"[.......]\")\n",
    "    elif x==6:#(printing pattern for dice face 6)\n",
    "        print( \"[.......]\")\n",
    "        print( \"[0     0]\")      \n",
    "        print( \"[0     0]\")\n",
    "        print( \"[0     0]\")\n",
    "        print( \"[.......]\")\n",
    "        \n",
    "    z=input('y or n')        "
   ]
  },
  {
   "cell_type": "code",
   "execution_count": null,
   "id": "da1e5a4d",
   "metadata": {},
   "outputs": [],
   "source": []
  }
 ],
 "metadata": {
  "kernelspec": {
   "display_name": "Python 3 (ipykernel)",
   "language": "python",
   "name": "python3"
  },
  "language_info": {
   "codemirror_mode": {
    "name": "ipython",
    "version": 3
   },
   "file_extension": ".py",
   "mimetype": "text/x-python",
   "name": "python",
   "nbconvert_exporter": "python",
   "pygments_lexer": "ipython3",
   "version": "3.11.5"
  }
 },
 "nbformat": 4,
 "nbformat_minor": 5
}
